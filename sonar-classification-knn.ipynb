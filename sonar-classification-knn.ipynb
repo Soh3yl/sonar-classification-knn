{
 "cells": [
  {
   "cell_type": "code",
   "execution_count": null,
   "id": "7f8a2049",
   "metadata": {},
   "outputs": [],
   "source": [
    "# Sonar Signal Classification using K-Nearest Neighbors\n",
    "# This project classifies sonar signals to distinguish between rocks and metal objects\n",
    "\n",
    "# Import necessary libraries\n",
    "import pandas as pd          # For data manipulation and analysis\n",
    "import numpy as np          # For numerical computations\n",
    "import matplotlib.pyplot as plt  # For plotting and visualization\n",
    "import seaborn as sb        # For statistical data visualization"
   ]
  },
  {
   "cell_type": "code",
   "execution_count": null,
   "id": "f9a273fe",
   "metadata": {},
   "outputs": [],
   "source": [
    "# Load the sonar dataset\n",
    "df = pd.read_csv('sonar.all-data.csv')"
   ]
  },
  {
   "cell_type": "code",
   "execution_count": null,
   "id": "20c35372",
   "metadata": {},
   "outputs": [],
   "source": [
    "# Display first 5 rows to understand the data structure\n",
    "df.head()"
   ]
  },
  {
   "cell_type": "code",
   "execution_count": null,
   "id": "d05e7336",
   "metadata": {},
   "outputs": [],
   "source": [
    "# Check the distribution of target classes (R: Rock, M: Metal)\n",
    "df['Label'].value_counts()"
   ]
  },
  {
   "cell_type": "code",
   "execution_count": null,
   "id": "4c065e54",
   "metadata": {},
   "outputs": [],
   "source": [
    "# Create binary target variable: R=0 (Rock), M=1 (Metal)\n",
    "df['target'] = df['Label'].map({'R':0, 'M':1})"
   ]
  },
  {
   "cell_type": "code",
   "execution_count": null,
   "id": "b6832c4e",
   "metadata": {},
   "outputs": [],
   "source": [
    "# Verify the mapping worked correctly\n",
    "df.head()"
   ]
  },
  {
   "cell_type": "code",
   "execution_count": null,
   "id": "dfe7c642",
   "metadata": {},
   "outputs": [],
   "source": [
    "# Check for missing values in the dataset\n",
    "df.isnull().sum()"
   ]
  },
  {
   "cell_type": "code",
   "execution_count": null,
   "id": "b472f154",
   "metadata": {},
   "outputs": [],
   "source": [
    "# Prepare features (X) and target (y) for machine learning\n",
    "# Drop both 'target' and 'Label' columns to get only the feature columns\n",
    "X = df.drop(['target', 'Label'], axis='columns')\n",
    "y = df['target']"
   ]
  },
  {
   "cell_type": "code",
   "execution_count": null,
   "id": "16523978",
   "metadata": {},
   "outputs": [],
   "source": [
    "# Split the data into training and testing sets\n",
    "from sklearn.model_selection import train_test_split\n",
    "# Use 90% for training, 10% for testing with fixed random state for reproducibility\n",
    "X_train, X_test, y_train, y_test = train_test_split(X, y, test_size=0.2, random_state=42)"
   ]
  },
  {
   "cell_type": "code",
   "execution_count": null,
   "id": "14d87929",
   "metadata": {},
   "outputs": [],
   "source": [
    "# Import required modules for preprocessing and model building\n",
    "from sklearn.preprocessing import StandardScaler  # For feature scaling\n",
    "from sklearn.pipeline import Pipeline            # For creating ML pipelines\n",
    "from sklearn.neighbors import KNeighborsClassifier  # KNN classifier\n",
    "from sklearn.model_selection import GridSearchCV   # For hyperparameter tuning"
   ]
  },
  {
   "cell_type": "code",
   "execution_count": null,
   "id": "7bfa3346",
   "metadata": {},
   "outputs": [],
   "source": [
    "# Create a pipeline with preprocessing and model\n",
    "# StandardScaler normalizes features to have mean=0 and std=1 (important for KNN)\n",
    "# KNeighborsClassifier implements the KNN algorithm\n",
    "operations = [('scaler', StandardScaler()), ('knn', KNeighborsClassifier())]\n",
    "pipe = Pipeline(operations)"
   ]
  },
  {
   "cell_type": "code",
   "execution_count": null,
   "id": "13e1ad5d",
   "metadata": {},
   "outputs": [],
   "source": [
    "# Define range of k values to test (1 to 30 neighbors)\n",
    "k_values = list(range(1, 31))"
   ]
  },
  {
   "cell_type": "code",
   "execution_count": null,
   "id": "504d9d7b",
   "metadata": {},
   "outputs": [],
   "source": [
    "# Set up parameter grid for GridSearchCV\n",
    "# 'knn__n_neighbors' refers to the n_neighbors parameter of the KNN classifier in the pipeline\n",
    "param_grid = {\n",
    "    'knn__n_neighbors': k_values\n",
    "}"
   ]
  },
  {
   "cell_type": "code",
   "execution_count": null,
   "id": "823f184d",
   "metadata": {},
   "outputs": [],
   "source": [
    "# Perform grid search with 5-fold cross-validation\n",
    "# cv=5: Use 5-fold cross-validation for robust evaluation\n",
    "# scoring='accuracy': Optimize for accuracy metric\n",
    "model = GridSearchCV(pipe, param_grid, cv=5, scoring='accuracy')"
   ]
  },
  {
   "cell_type": "code",
   "execution_count": null,
   "id": "81bbad6b",
   "metadata": {},
   "outputs": [],
   "source": [
    "# Train the model with all parameter combinations\n",
    "model.fit(X_train, y_train)"
   ]
  },
  {
   "cell_type": "code",
   "execution_count": null,
   "id": "21f80209",
   "metadata": {},
   "outputs": [],
   "source": [
    "# Make predictions on the test set using the best found parameters\n",
    "y_pred = model.predict(X_test)"
   ]
  },
  {
   "cell_type": "code",
   "execution_count": null,
   "id": "2ff2eef1",
   "metadata": {},
   "outputs": [],
   "source": [
    "# Extract the best k value found by grid search\n",
    "best_k = model.best_estimator_.get_params()['knn__n_neighbors']"
   ]
  },
  {
   "cell_type": "code",
   "execution_count": null,
   "id": "8f499353",
   "metadata": {},
   "outputs": [],
   "source": [
    "# Import metrics for model evaluation\n",
    "from sklearn.metrics import accuracy_score, ConfusionMatrixDisplay, classification_report"
   ]
  },
  {
   "cell_type": "code",
   "execution_count": null,
   "id": "c6537f89",
   "metadata": {},
   "outputs": [],
   "source": [
    "# Display results\n",
    "print(f'Best k estimated by Grid Search Cross Validation is {best_k}.\\n')"
   ]
  },
  {
   "cell_type": "code",
   "execution_count": null,
   "id": "faa2e4ec",
   "metadata": {},
   "outputs": [],
   "source": [
    "# Show detailed classification metrics (precision, recall, f1-score for each class)\n",
    "print(f'Classification report:\\n\\n{classification_report(y_test, y_pred)}')"
   ]
  },
  {
   "cell_type": "code",
   "execution_count": null,
   "id": "40ee6ecb",
   "metadata": {},
   "outputs": [],
   "source": [
    "# Calculate and display error rate as percentage\n",
    "err = float(f'{np.round(1 - accuracy_score(y_test,y_pred),2)*100 : .2f}')\n",
    "print(f'Error:\\n\\n{err}%')"
   ]
  },
  {
   "cell_type": "code",
   "execution_count": null,
   "id": "dbd72e31",
   "metadata": {},
   "outputs": [],
   "source": [
    "# Display confusion matrix visualization\n",
    "print(f'Confusion matrix:\\n\\n{ConfusionMatrixDisplay.from_estimator(model, X_test, y_test)}\\n')"
   ]
  },
  {
   "cell_type": "code",
   "execution_count": null,
   "id": "75b7fe74",
   "metadata": {},
   "outputs": [],
   "source": [
    "# Show all parameters of the best estimator\n",
    "model.best_estimator_.get_params()"
   ]
  },
  {
   "cell_type": "code",
   "execution_count": null,
   "id": "8e476704",
   "metadata": {},
   "outputs": [],
   "source": [
    "# Display first 5 rows of cross-validation results\n",
    "pd.DataFrame(model.cv_results_).head()"
   ]
  },
  {
   "cell_type": "code",
   "execution_count": null,
   "id": "637a027e",
   "metadata": {},
   "outputs": [],
   "source": [
    "# Plot the cross-validation scores for different k values\n",
    "# This helps visualize how performance changes with different k values\n",
    "pd.DataFrame(model.cv_results_)['mean_test_score'].plot()"
   ]
  },
  {
   "cell_type": "code",
   "execution_count": null,
   "id": "e25702a1",
   "metadata": {},
   "outputs": [],
   "source": [
    "# Alternative approach: Train KNN with a fixed k=5 for comparison\n",
    "print(\"\\n\" + \"=\"*50)\n",
    "print(\"COMPARISON: KNN with fixed k=5\")\n",
    "print(\"=\"*50)"
   ]
  },
  {
   "cell_type": "code",
   "execution_count": null,
   "id": "1c14e2a8",
   "metadata": {},
   "outputs": [],
   "source": [
    "# Create and train a KNN model with k=5 (without scaling for comparison)\n",
    "model_fixed = KNeighborsClassifier(n_neighbors=5)\n",
    "model_fixed.fit(X_train, y_train)"
   ]
  },
  {
   "cell_type": "code",
   "execution_count": null,
   "id": "80d6a004",
   "metadata": {},
   "outputs": [],
   "source": [
    "# Make predictions with the fixed k model\n",
    "y_pred_fixed = model_fixed.predict(X_test)"
   ]
  },
  {
   "cell_type": "code",
   "execution_count": null,
   "id": "3c61760f",
   "metadata": {},
   "outputs": [],
   "source": [
    "# Evaluate the fixed k model\n",
    "print(f'Classification report:\\n\\n{classification_report(y_test, y_pred_fixed)}')"
   ]
  },
  {
   "cell_type": "code",
   "execution_count": null,
   "id": "ccd25a1d",
   "metadata": {},
   "outputs": [],
   "source": [
    "# Calculate error rate for fixed k model\n",
    "err_fixed = float(f'{np.round(1 - accuracy_score(y_test,y_pred_fixed),2)*100 : .2f}')\n",
    "print(f'Error:\\n\\n{err_fixed}%')"
   ]
  },
  {
   "cell_type": "code",
   "execution_count": null,
   "id": "31cfa26c",
   "metadata": {},
   "outputs": [],
   "source": [
    "# Display confusion matrix for fixed k model\n",
    "print(f'Confusion matrix:\\n\\n{ConfusionMatrixDisplay.from_estimator(model_fixed, X_test, y_test)}\\n')\n",
    "\n",
    "# Key takeaways:\n",
    "# 1. StandardScaler is crucial for KNN as it's distance-based\n",
    "# 2. GridSearchCV helps find optimal hyperparameters\n",
    "# 3. Cross-validation provides robust model evaluation\n",
    "# 4. The comparison shows the importance of proper preprocessing and hyperparameter tuning"
   ]
  }
 ],
 "metadata": {
  "language_info": {
   "name": "python"
  }
 },
 "nbformat": 4,
 "nbformat_minor": 5
}
